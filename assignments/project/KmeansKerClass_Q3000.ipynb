{
 "cells": [
  {
   "cell_type": "code",
   "execution_count": 1,
   "outputs": [],
   "source": [
    "import numpy as np\n",
    "from scipy import sparse\n",
    "from scipy.special import softmax"
   ],
   "metadata": {
    "collapsed": false,
    "ExecuteTime": {
     "end_time": "2023-11-21T15:24:48.414425800Z",
     "start_time": "2023-11-21T15:24:46.045061900Z"
    }
   },
   "id": "b3578aab886d5b46"
  },
  {
   "cell_type": "code",
   "execution_count": 2,
   "outputs": [],
   "source": [
    "def read_data(image_file, label_file, N, M):\n",
    "    x = np.zeros((N, M), dtype='uint8')\n",
    "    images = open(image_file, 'rb')\n",
    "    images.read(16)\n",
    "    for n in range(N):\n",
    "        x[n, :] = np.frombuffer(images.read(M), dtype='uint8')\n",
    "    images.close()\n",
    "    labels = open(label_file, 'rb')\n",
    "    labels.read(8)\n",
    "    xl = np.frombuffer(labels.read(N), dtype='uint8')\n",
    "    labels.close()\n",
    "    return x, xl"
   ],
   "metadata": {
    "collapsed": false,
    "ExecuteTime": {
     "end_time": "2023-11-21T15:24:50.673696900Z",
     "start_time": "2023-11-21T15:24:50.661686200Z"
    }
   },
   "id": "eff7f1d177572eeb"
  },
  {
   "cell_type": "code",
   "execution_count": 3,
   "outputs": [],
   "source": [
    "def get_one_image(x, L, l):\n",
    "    z = x.reshape((L, L))\n",
    "    y = np.zeros(((L - l + 1) * (L - l + 1), l * l))\n",
    "    n = 0\n",
    "    for i in range(L - l + 1):\n",
    "        for j in range(L - l + 1):\n",
    "            y[n, :] = z[i:i + l, j:j + l].flatten()\n",
    "            y[n, :] = y[n, :] - np.mean(y[n, :])\n",
    "            y[n, :] = y[n, :] / np.linalg.norm(y[n, :])\n",
    "            n = n + 1\n",
    "    return y"
   ],
   "metadata": {
    "collapsed": false,
    "ExecuteTime": {
     "end_time": "2023-11-21T15:24:51.803723800Z",
     "start_time": "2023-11-21T15:24:51.771917400Z"
    }
   },
   "id": "7c9a779ee935cf06"
  },
  {
   "cell_type": "code",
   "execution_count": 4,
   "outputs": [],
   "source": [
    "def kmeans(z, Q):\n",
    "    np.random.shuffle(z)\n",
    "    u, err = z[:Q, :], 1\n",
    "    rows = np.arange(len(z))\n",
    "    data = np.ones(len(z))\n",
    "    while err > 1e-6:\n",
    "        r = np.dot(z, u.T)\n",
    "        cols = np.argmax(r, axis=1)\n",
    "        r = sparse.csr_matrix((data, (rows, cols)), shape=r.shape)\n",
    "        v = sparse.csr_matrix.dot(r.T, z)\n",
    "        err = 0\n",
    "        for q in range(len(v)):\n",
    "            v[q, :] = v[q, :] / np.linalg.norm(v[q, :])\n",
    "            err += np.dot(u[q, :], v[q, :])\n",
    "        u, err = v, 1 - err / len(v)\n",
    "    return u"
   ],
   "metadata": {
    "collapsed": false,
    "ExecuteTime": {
     "end_time": "2023-11-21T15:24:52.557259Z",
     "start_time": "2023-11-21T15:24:52.541390400Z"
    }
   },
   "id": "b890ce5137678aab"
  },
  {
   "cell_type": "code",
   "execution_count": 5,
   "outputs": [],
   "source": [
    "def features(x, L, l, Q):\n",
    "    (N, M), LL, ll = x.shape, (L - l + 1) * (L - l + 1), l * l\n",
    "    z = np.zeros((N * LL, ll))\n",
    "    for n in range(N):\n",
    "        z[n * LL:(n + 1) * LL, :] = get_one_image(x[n, :], L, l)\n",
    "    u = kmeans(z, Q)\n",
    "    return u"
   ],
   "metadata": {
    "collapsed": false,
    "ExecuteTime": {
     "end_time": "2023-11-21T15:24:53.402213Z",
     "start_time": "2023-11-21T15:24:53.370629700Z"
    }
   },
   "id": "4847c74360d8b5bc"
  },
  {
   "cell_type": "code",
   "execution_count": 6,
   "outputs": [],
   "source": [
    "def lssvm(u, ul, K):\n",
    "    (N, M) = u.shape\n",
    "    q = np.ones((N + 1, N + 1))\n",
    "    q[:-1, :-1] = np.dot(u, u.T)\n",
    "    q = q ** 4\n",
    "    v = np.zeros((N + 1, K))\n",
    "    for n in range(N):\n",
    "        v[n, ul[n]] = 1.0\n",
    "        q[n, n] += 1e-6\n",
    "    q[N, N] = 0\n",
    "    w = np.linalg.solve(q, v)\n",
    "    return w"
   ],
   "metadata": {
    "collapsed": false,
    "ExecuteTime": {
     "end_time": "2023-11-21T15:24:54.028802700Z",
     "start_time": "2023-11-21T15:24:54.015213800Z"
    }
   },
   "id": "f2b3b21647df0a9b"
  },
  {
   "cell_type": "code",
   "execution_count": 7,
   "outputs": [],
   "source": [
    "def lssvm_test(w, y, K, L, l):\n",
    "    (J, M), LL = y.shape, (L - l + 1) * (L - l + 1)\n",
    "    h = np.zeros((J, K))\n",
    "    q = np.ones((LL, u.shape[0] + 1))\n",
    "    for n in range(J):\n",
    "        z = get_one_image(y[n, :], L, l)\n",
    "        q[:, :-1] = np.dot(z, u.T)\n",
    "        q = q ** 4\n",
    "        r = np.dot(q, w)\n",
    "        h[n, :] = np.sum(r, axis=0)\n",
    "        h[n, :] = softmax(h[n, :])\n",
    "    return h"
   ],
   "metadata": {
    "collapsed": false,
    "ExecuteTime": {
     "end_time": "2023-11-21T15:24:54.569095200Z",
     "start_time": "2023-11-21T15:24:54.559501Z"
    }
   },
   "id": "ccef8670a174e9c2"
  },
  {
   "cell_type": "code",
   "execution_count": 8,
   "outputs": [],
   "source": [
    "def check_solution(g, yl):\n",
    "    err = 0\n",
    "    for n in range(len(yl)):\n",
    "        k = np.argmax(g[n, :])\n",
    "        if k != yl[n]:\n",
    "            err += 1\n",
    "    return err * 100.0 / len(yl)"
   ],
   "metadata": {
    "collapsed": false,
    "ExecuteTime": {
     "end_time": "2023-11-21T15:24:55.378168800Z",
     "start_time": "2023-11-21T15:24:55.365610400Z"
    }
   },
   "id": "a4460fc43ac2fec2"
  },
  {
   "cell_type": "code",
   "execution_count": 9,
   "outputs": [],
   "source": [
    "x, xl = read_data(\"data/train-images.idx3-ubyte\", \"data/train-labels.idx1-ubyte\", 60000, 784)\n",
    "y, yl = read_data(\"data/t10k-images.idx3-ubyte\", \"data/t10k-labels.idx1-ubyte\", 10000, 784)"
   ],
   "metadata": {
    "collapsed": false,
    "ExecuteTime": {
     "end_time": "2023-11-21T15:24:56.663955200Z",
     "start_time": "2023-11-21T15:24:55.869894600Z"
    }
   },
   "id": "c846b567eec9105"
  },
  {
   "cell_type": "code",
   "execution_count": 10,
   "outputs": [
    {
     "name": "stdout",
     "output_type": "stream",
     "text": [
      "k= 0\n",
      "k= 1\n",
      "k= 2\n",
      "k= 3\n",
      "k= 4\n",
      "k= 5\n",
      "k= 6\n",
      "k= 7\n",
      "k= 8\n",
      "k= 9\n"
     ]
    }
   ],
   "source": [
    "Q = 3000  # number of representative patches per class\n",
    "L, l = 28, 26  # image and patch size\n",
    "u, ul, K = [], [], np.max(xl) + 1\n",
    "for k in range(K):\n",
    "    print(\"k=\", k)\n",
    "    v = features(x[xl == k], L, l, Q)\n",
    "    for i in range(len(v)):\n",
    "        u.append(v[i, :].tolist())\n",
    "        ul.append(k)\n",
    "u = np.array(u)"
   ],
   "metadata": {
    "collapsed": false,
    "ExecuteTime": {
     "end_time": "2023-11-21T15:30:34.893664400Z",
     "start_time": "2023-11-21T15:25:00.785884900Z"
    }
   },
   "id": "8a484f73e2a8be"
  },
  {
   "cell_type": "code",
   "execution_count": 11,
   "outputs": [],
   "source": [
    "w = lssvm(u, ul, K)\n",
    "g = lssvm_test(w, y, K, L, l)"
   ],
   "metadata": {
    "collapsed": false,
    "ExecuteTime": {
     "end_time": "2023-11-21T15:35:31.784583300Z",
     "start_time": "2023-11-21T15:30:39.204014400Z"
    }
   },
   "id": "a7cad331c223447e"
  },
  {
   "cell_type": "code",
   "execution_count": 12,
   "outputs": [
    {
     "name": "stdout",
     "output_type": "stream",
     "text": [
      "Test error = 0.96 %\n"
     ]
    }
   ],
   "source": [
    "err = check_solution(g, yl)\n",
    "print(\"Test error =\", round(err, 3), \"%\")"
   ],
   "metadata": {
    "collapsed": false,
    "ExecuteTime": {
     "end_time": "2023-11-21T15:35:37.220445600Z",
     "start_time": "2023-11-21T15:35:37.198471700Z"
    }
   },
   "id": "b15806a74c33b252"
  },
  {
   "cell_type": "code",
   "execution_count": null,
   "outputs": [],
   "source": [
    " "
   ],
   "metadata": {
    "collapsed": false,
    "is_executing": true,
    "ExecuteTime": {
     "start_time": "2023-11-21T15:07:27.327531Z"
    }
   },
   "id": "31c1d486cbc3263b"
  }
 ],
 "metadata": {
  "kernelspec": {
   "display_name": "Python 3",
   "language": "python",
   "name": "python3"
  },
  "language_info": {
   "codemirror_mode": {
    "name": "ipython",
    "version": 2
   },
   "file_extension": ".py",
   "mimetype": "text/x-python",
   "name": "python",
   "nbconvert_exporter": "python",
   "pygments_lexer": "ipython2",
   "version": "2.7.6"
  }
 },
 "nbformat": 4,
 "nbformat_minor": 5
}
