{
 "cells": [
  {
   "cell_type": "markdown",
   "source": [
    "### Importing necessary libraries"
   ],
   "metadata": {
    "collapsed": false
   },
   "id": "68defea2bed76c66"
  },
  {
   "cell_type": "code",
   "execution_count": 1,
   "outputs": [],
   "source": [
    "import numpy as np\n",
    "from sklearn.datasets import make_spd_matrix\n",
    "import matplotlib.pyplot as plt"
   ],
   "metadata": {
    "collapsed": false,
    "ExecuteTime": {
     "end_time": "2023-09-30T13:34:09.302799500Z",
     "start_time": "2023-09-30T13:34:08.415674500Z"
    }
   },
   "id": "abce81d0cd6451c0"
  },
  {
   "cell_type": "markdown",
   "source": [
    "## Problem 1"
   ],
   "metadata": {
    "collapsed": false
   },
   "id": "7ab1d7312228fcfd"
  },
  {
   "cell_type": "markdown",
   "source": [
    "### Problem 1 (a)\n",
    "$f(x) = x^{T}Ax + b$ \\\n",
    "$\\Rightarrow \\nabla f(x) = 2Ax$ \\\n",
    "where $A = \\begin{bmatrix} 2 & -1 & -1 \\\\ -1 & 2 & 0 \\\\ -1 & 0 & 1 \\end{bmatrix}$, $b = \\begin{bmatrix} 1 \\end{bmatrix}$ \\\n",
    "By setting the gradient to zero \n",
    "$\\Rightarrow 2Ax = 0$ \\\n",
    "$\\Rightarrow x = 0$ "
   ],
   "metadata": {
    "collapsed": false
   },
   "id": "bfac804f1e0033c2"
  },
  {
   "cell_type": "code",
   "execution_count": 2,
   "outputs": [
    {
     "name": "stdout",
     "output_type": "stream",
     "text": [
      "Minimizer using gradient descent: [[1.54960309e-04]\n",
      " [8.59964837e-05]\n",
      " [1.93232345e-04]]\n",
      "Value of f_a at minimizer: 1.000000013616153\n",
      "Minimizer using gradient zero: [[0.]\n",
      " [0.]\n",
      " [0.]]\n",
      "Value of f_a at minimizer using gradient zero: 1.0\n"
     ]
    }
   ],
   "source": [
    "A_a = np.matrix([[2, -1, -1], [-1, 2, 0], [-1, 0, 1]])\n",
    "b_a = np.matrix([[1]])\n",
    "\n",
    "def f_a(x):\n",
    "    return x.T @ A_a @ x + b_a\n",
    "\n",
    "def gradient_f_a(x):\n",
    "    return 2* A_a @ x\n",
    "\n",
    "def gradient_descent(x0, learning_rate, num_iterations):\n",
    "    x = x0\n",
    "    for i in range(num_iterations):\n",
    "        x = x - learning_rate * gradient_f_a(x)\n",
    "    return x\n",
    "\n",
    "N = 1000\n",
    "t = 0.02\n",
    "\n",
    "x0 = np.random.rand(3,1)\n",
    "result_gradient_descent = gradient_descent(x0, t, N)\n",
    "print(\"Minimizer using gradient descent:\", result_gradient_descent)\n",
    "print(\"Value of f_a at minimizer:\", f_a(result_gradient_descent)[0,0])\n",
    "result_gradient_zero = (1/2) * A_a.I @ np.matrix([[0],[0],[0]])\n",
    "print(\"Minimizer using gradient zero:\", result_gradient_zero)\n",
    "print(\"Value of f_a at minimizer using gradient zero:\", f_a(result_gradient_zero)[0,0])"
   ],
   "metadata": {
    "collapsed": false,
    "ExecuteTime": {
     "end_time": "2023-09-30T13:34:09.323887500Z",
     "start_time": "2023-09-30T13:34:09.308639500Z"
    }
   },
   "id": "e9995a39456edf65"
  },
  {
   "cell_type": "markdown",
   "source": [
    "### Problem 1 (b)\n",
    "$f(x) = ||Ax - b||^{2}$ \\\n",
    "$\\Rightarrow \\nabla f(x) = 2A^{T}(Ax - b)$ \\\n",
    "where $A = \\begin{bmatrix} 1 & 2 \\\\ 2 & 4 \\\\ 3 & 1 \\end{bmatrix}$, $b = \\begin{bmatrix} 1 \\\\ 3 \\\\ 1 \\end{bmatrix}$ \\\n",
    "By setting the gradient to zero\n",
    "$\\Rightarrow 2A^{T}(Ax - b) = 0$ \\\n",
    "$\\Rightarrow A^{T}(Ax - b) = 0$ \\\n",
    "$\\Rightarrow A^{T}Ax = A^{T}b$ \\\n",
    "$\\Rightarrow x = (A^{T}A)^{-1}A^{T}b$"
   ],
   "metadata": {
    "collapsed": false
   },
   "id": "34ff2ff1741a5d38"
  },
  {
   "cell_type": "code",
   "execution_count": 3,
   "outputs": [
    {
     "name": "stdout",
     "output_type": "stream",
     "text": [
      "Minimizer using gradient descent: [[0.12]\n",
      " [0.64]]\n",
      "Value of f_b at minimizer: 0.20000000000000107\n",
      "Minimizer using gradient zero: [[0.12]\n",
      " [0.64]]\n",
      "Value of f_b at minimizer using gradient zero: 0.20000000000000107\n"
     ]
    }
   ],
   "source": [
    "A_b = np.matrix([[1,2],[2,4],[3,1]])\n",
    "b_b = np.matrix([[1],[3],[1]])\n",
    "\n",
    "def f_b(x):\n",
    "    return x.T @ A_b.T @ A_b @ x - b_b.T @ A_b @ x - x.T @ A_b.T @ b_b + b_b.T @ b_b\n",
    "\n",
    "def gradient_f_b(x):\n",
    "    return 2* A_b.T @ (A_b @ x - b_b)\n",
    "\n",
    "def gradient_descent(x0, learning_rate, num_iterations):\n",
    "    x = x0\n",
    "    for i in range(num_iterations):\n",
    "        x = x - learning_rate * gradient_f_b(x)\n",
    "    return x\n",
    "\n",
    "N = 1000\n",
    "t = 0.02\n",
    "x0 = np.random.rand(2,1)\n",
    "result_gradient_descent = gradient_descent(x0, t, N)\n",
    "print(\"Minimizer using gradient descent:\", result_gradient_descent)\n",
    "print(\"Value of f_b at minimizer:\", f_b(result_gradient_descent)[0,0])\n",
    "result_gradient_zero = (A_b.T @ A_b).I @ A_b.T @ b_b\n",
    "print(\"Minimizer using gradient zero:\", result_gradient_zero)\n",
    "print(\"Value of f_b at minimizer using gradient zero:\", f_b(result_gradient_zero)[0,0])"
   ],
   "metadata": {
    "collapsed": false,
    "ExecuteTime": {
     "end_time": "2023-09-30T13:34:09.372532600Z",
     "start_time": "2023-09-30T13:34:09.323887500Z"
    }
   },
   "id": "16008dc07e8ae205"
  },
  {
   "cell_type": "markdown",
   "source": [
    "### Problem 1 (c)\n",
    "$f(x) = ||Ax - b||^{2}$ \\\n",
    "$\\Rightarrow \\nabla f(x) = 2A^{T}(Ax - b)$ \\\n",
    "where $A = \\begin{bmatrix} 1 & 2 & 1 \\\\ 2 & 4 & 2 \\\\ 3 & 1 & 9 \\\\ 4 & 1 & 0 \\\\ 2 & 1 & 4 \\end{bmatrix}$, $b = \\begin{bmatrix} 1 \\\\ 3 \\\\ 1 \\\\ 0 \\\\ 9 \\end{bmatrix}$ \\\n",
    "By setting the gradient to zero\n",
    "$\\Rightarrow 2A^{T}(Ax - b) = 0$ \\\n",
    "$\\Rightarrow A^{T}(Ax - b) = 0$ \\\n",
    "$\\Rightarrow A^{T}Ax = A^{T}b$ \\\n",
    "$\\Rightarrow x = (A^{T}A)^{-1}A^{T}b$"
   ],
   "metadata": {
    "collapsed": false
   },
   "id": "31ae96f3ac9bb12a"
  },
  {
   "cell_type": "code",
   "execution_count": 4,
   "outputs": [
    {
     "name": "stdout",
     "output_type": "stream",
     "text": [
      "Minimizer using gradient descent: [[0.05744939]\n",
      " [0.65686105]\n",
      " [0.33915902]]\n",
      "Value of f_c at minimizer: 56.990482782488314\n",
      "Minimizer using gradient zero: [[0.05744939]\n",
      " [0.65686105]\n",
      " [0.33915902]]\n",
      "Value of f_c at minimizer using gradient zero: 56.99048278248832\n"
     ]
    }
   ],
   "source": [
    "A_c = np.matrix([[1,2,1],[2,4,2],[3,1,9],[4,1,0],[2,1,4]])\n",
    "b_c = np.matrix([[1],[3],[1],[0],[9]])\n",
    "\n",
    "def f_c(x):\n",
    "    return x.T @ A_c.T @ A_c @ x - b_c.T @ A_c @ x - x.T @ A_c.T @ b_c + b_c.T @ b_c\n",
    "\n",
    "def gradient_f_c(x):\n",
    "    return 2* A_c.T @ (A_c @ x - b_c)\n",
    "\n",
    "def gradient_descent(x0, learning_rate, num_iterations):\n",
    "    x = x0\n",
    "    for i in range(num_iterations):\n",
    "        x = x - learning_rate * gradient_f_c(x)\n",
    "    return x\n",
    "\n",
    "N = 1000\n",
    "t = 0.002 # learning rate is made smaller than previous problems due to out of bound errors\n",
    "x0 = np.random.rand(3,1)\n",
    "result_gradient_descent = gradient_descent(x0, t, N)\n",
    "print(\"Minimizer using gradient descent:\", result_gradient_descent)\n",
    "print(\"Value of f_c at minimizer:\", f_c(result_gradient_descent)[0,0])\n",
    "result_gradient_zero = (A_c.T @ A_c).I @ A_c.T @ b_c\n",
    "print(\"Minimizer using gradient zero:\", result_gradient_zero)\n",
    "print(\"Value of f_c at minimizer using gradient zero:\", f_c(result_gradient_zero)[0,0])"
   ],
   "metadata": {
    "collapsed": false,
    "ExecuteTime": {
     "end_time": "2023-09-30T13:34:09.372532600Z",
     "start_time": "2023-09-30T13:34:09.341668500Z"
    }
   },
   "id": "292473b96a728e1f"
  },
  {
   "cell_type": "markdown",
   "source": [
    "## Problem 2"
   ],
   "metadata": {
    "collapsed": false
   },
   "id": "6ec7a7327510c7d5"
  },
  {
   "cell_type": "markdown",
   "source": [
    "Generating $A$ randomly using ```sklearn.datasets.make_spd_matrix```,and generate $b$ and $c$ using ```np.random.rand``` function of numpy."
   ],
   "metadata": {
    "collapsed": false
   },
   "id": "1727d1c40371fef8"
  },
  {
   "cell_type": "code",
   "execution_count": 5,
   "outputs": [],
   "source": [
    "A = np.matrix(make_spd_matrix(10))\n",
    "b = np.matrix(np.random.randn(10,1))\n",
    "c = np.matrix(np.random.randn(1,1))"
   ],
   "metadata": {
    "collapsed": false,
    "ExecuteTime": {
     "end_time": "2023-09-30T13:34:09.374905Z",
     "start_time": "2023-09-30T13:34:09.361584900Z"
    }
   },
   "id": "77b6a29197e5c49c"
  },
  {
   "cell_type": "markdown",
   "source": [
    "$f(x) = x^T A x - 2 b^T x + c$ \\\n",
    "$\\Rightarrow \\nabla f(x) = 2 A x - 2 b$ \\\n",
    "$\\Rightarrow \\nabla^2 f(x) = 2 A$ \\\n",
    "$\\nabla^2 f(x) \\geq 0 \\Rightarrow f$ is convex \\\n",
    "$2*A \\geq 0 \\Rightarrow A \\geq 0 \\Rightarrow A$ is positive semi definite $\\Rightarrow f$ is convex \\\n",
    "So we need to check if $A$ is positive semi definite or not to know if $f$ is convex or not."
   ],
   "metadata": {
    "collapsed": false
   },
   "id": "b6ee4e708bd57dd"
  },
  {
   "cell_type": "code",
   "execution_count": 6,
   "outputs": [],
   "source": [
    "def f(x):\n",
    "    return x.T @ A @ x -2 * b.T @ x + c\n",
    "\n",
    "def gradient_f(x):\n",
    "    return 2 * A @ x - 2 * b\n",
    "\n",
    "def grad_grad_f(x):\n",
    "    return 2 * A\n",
    "\n",
    "def is_pos_sem_def(x):\n",
    "    return np.all(np.linalg.eigvals(x) >= 0)"
   ],
   "metadata": {
    "collapsed": false,
    "ExecuteTime": {
     "end_time": "2023-09-30T13:34:09.374905Z",
     "start_time": "2023-09-30T13:34:09.365510900Z"
    }
   },
   "id": "b25c7e427f13f18a"
  },
  {
   "cell_type": "markdown",
   "source": [
    "### Problem 2 (a)\n",
    "#### Analytical solution"
   ],
   "metadata": {
    "collapsed": false
   },
   "id": "9f07402a53b3f6ee"
  },
  {
   "cell_type": "code",
   "execution_count": 7,
   "outputs": [
    {
     "name": "stdout",
     "output_type": "stream",
     "text": [
      "A is semi positive definite, hence f is convex\n"
     ]
    }
   ],
   "source": [
    "if is_pos_sem_def(A):\n",
    "    print(\"A is semi positive definite, hence f is convex\")"
   ],
   "metadata": {
    "collapsed": false,
    "ExecuteTime": {
     "end_time": "2023-09-30T13:34:09.375986700Z",
     "start_time": "2023-09-30T13:34:09.368874100Z"
    }
   },
   "id": "590a91d0a2dd9671"
  },
  {
   "cell_type": "markdown",
   "source": [
    "By setting the gradient of $f$ to zero, we can find the analytical solution\n",
    "$\\Rightarrow \\nabla f(x) = 0$ \\\n",
    "$\\Rightarrow 2 A x - 2 b = 0$ \\\n",
    "$\\Rightarrow x = A^{-1} b$"
   ],
   "metadata": {
    "collapsed": false
   },
   "id": "a3e382e8d67ed16c"
  },
  {
   "cell_type": "code",
   "execution_count": 8,
   "outputs": [],
   "source": [
    "result_gradient_zero = np.matrix(A.I @ b)"
   ],
   "metadata": {
    "collapsed": false,
    "ExecuteTime": {
     "end_time": "2023-09-30T13:34:09.383567Z",
     "start_time": "2023-09-30T13:34:09.372532600Z"
    }
   },
   "id": "ca151dba58b90368"
  },
  {
   "cell_type": "code",
   "execution_count": 9,
   "outputs": [],
   "source": [
    "analytical_solution = f(result_gradient_zero)[0,0]"
   ],
   "metadata": {
    "collapsed": false,
    "ExecuteTime": {
     "end_time": "2023-09-30T13:34:09.383567Z",
     "start_time": "2023-09-30T13:34:09.379096800Z"
    }
   },
   "id": "91ee638fb25add28"
  },
  {
   "cell_type": "code",
   "execution_count": 10,
   "outputs": [
    {
     "name": "stdout",
     "output_type": "stream",
     "text": [
      "Minimizer using gradient zero: [[-9.15256852]\n",
      " [ 2.78083746]\n",
      " [-1.18661204]\n",
      " [ 1.32064519]\n",
      " [-7.09335175]\n",
      " [13.35628316]\n",
      " [-3.38601289]\n",
      " [ 2.42614784]\n",
      " [-0.79290161]\n",
      " [ 9.7378983 ]]\n",
      "Analytical solution by setting gradient to zero: -28.24615806045249\n"
     ]
    }
   ],
   "source": [
    "print(\"Minimizer using gradient zero:\", result_gradient_zero)\n",
    "print(\"Analytical solution by setting gradient to zero:\", analytical_solution)"
   ],
   "metadata": {
    "collapsed": false,
    "ExecuteTime": {
     "end_time": "2023-09-30T13:34:09.383567Z",
     "start_time": "2023-09-30T13:34:09.379602700Z"
    }
   },
   "id": "6c3c02ecff587139"
  },
  {
   "cell_type": "markdown",
   "source": [
    "### Problem 2 (b)\n",
    "#### Gradient descent"
   ],
   "metadata": {
    "collapsed": false
   },
   "id": "29772dbd9e98ae53"
  },
  {
   "cell_type": "markdown",
   "source": [
    "Initial point $x_0 = [1/10, 1/10, 1/10, 1/10, 1/10, 1/10, 1/10, 1/10, 1/10, 1/10]^T$ where $x_0 \\in \\mathbb{R}^{10}$"
   ],
   "metadata": {
    "collapsed": false
   },
   "id": "808b27df20f9f0c8"
  },
  {
   "cell_type": "code",
   "execution_count": 11,
   "outputs": [],
   "source": [
    "x0 = np.matrix([[1/10],[1/10],[1/10],[1/10],[1/10],[1/10],[1/10],[1/10],[1/10],[1/10]])"
   ],
   "metadata": {
    "collapsed": false,
    "ExecuteTime": {
     "end_time": "2023-09-30T13:34:09.390992900Z",
     "start_time": "2023-09-30T13:34:09.383567Z"
    }
   },
   "id": "a4a75b5e9aef479f"
  },
  {
   "cell_type": "markdown",
   "source": [
    "Step size $\\ l_{GD}= \\frac{1}{2||A|| + ||b||_2}$ where $||A||$ is the spectral norm of $A$ and $||b||_2$ is the 2-norm of $b$"
   ],
   "metadata": {
    "collapsed": false
   },
   "id": "3b4c4caca49af0e4"
  },
  {
   "cell_type": "code",
   "execution_count": 12,
   "outputs": [],
   "source": [
    "a_norm = np.linalg.norm(A, ord=2)\n",
    "b_norm = np.linalg.norm(b)\n",
    "step_size = 1 / ((2*a_norm) + b_norm)"
   ],
   "metadata": {
    "collapsed": false,
    "ExecuteTime": {
     "end_time": "2023-09-30T13:34:09.437934500Z",
     "start_time": "2023-09-30T13:34:09.387565900Z"
    }
   },
   "id": "37ecda6ffb0e1dce"
  },
  {
   "cell_type": "code",
   "execution_count": 13,
   "outputs": [],
   "source": [
    "def gradient_descent(x0, step_size, num_iterations):\n",
    "    \"\"\"\n",
    "    Gradient descent algorithm\n",
    "    :param x0: np.matrix - Initial point\n",
    "    :param step_size: float - step size\n",
    "    :param num_iterations: int - number of iterations\n",
    "    :return: value of x after num_iterations, list of objective values\n",
    "    \"\"\"\n",
    "    x = x0\n",
    "    f_list = []\n",
    "    for i in range(num_iterations):\n",
    "        x = x - step_size * gradient_f(x)\n",
    "        f_list.append(f(x).tolist()[0][0])\n",
    "    return x, f_list"
   ],
   "metadata": {
    "collapsed": false,
    "ExecuteTime": {
     "end_time": "2023-09-30T13:34:09.437934500Z",
     "start_time": "2023-09-30T13:34:09.390992900Z"
    }
   },
   "id": "d726fb3b4309c1ee"
  },
  {
   "cell_type": "code",
   "execution_count": 14,
   "outputs": [],
   "source": [
    "result_gradient_descent, f_list = gradient_descent(x0, step_size, 1000)"
   ],
   "metadata": {
    "collapsed": false,
    "ExecuteTime": {
     "end_time": "2023-09-30T13:34:09.437934500Z",
     "start_time": "2023-09-30T13:34:09.394822400Z"
    }
   },
   "id": "53e616fb0cbc29"
  },
  {
   "cell_type": "code",
   "execution_count": 15,
   "outputs": [],
   "source": [
    "optimal_solution = f(result_gradient_descent)[0,0]"
   ],
   "metadata": {
    "collapsed": false,
    "ExecuteTime": {
     "end_time": "2023-09-30T13:34:09.437934500Z",
     "start_time": "2023-09-30T13:34:09.421998800Z"
    }
   },
   "id": "1a6e979708e80856"
  },
  {
   "cell_type": "code",
   "execution_count": 16,
   "outputs": [
    {
     "name": "stdout",
     "output_type": "stream",
     "text": [
      "Minimizer using gradient descent: [[-9.03581218]\n",
      " [ 2.72650626]\n",
      " [-1.14045911]\n",
      " [ 1.29836243]\n",
      " [-6.98249168]\n",
      " [13.19409598]\n",
      " [-3.3210739 ]\n",
      " [ 2.37920814]\n",
      " [-0.77443266]\n",
      " [ 9.6221097 ]]\n",
      "Optimal Solution by using gradient descent: -28.242278949955974\n"
     ]
    }
   ],
   "source": [
    "print(\"Minimizer using gradient descent:\", result_gradient_descent)\n",
    "print(\"Optimal Solution by using gradient descent:\", optimal_solution)"
   ],
   "metadata": {
    "collapsed": false,
    "ExecuteTime": {
     "end_time": "2023-09-30T13:34:09.437934500Z",
     "start_time": "2023-09-30T13:34:09.424544200Z"
    }
   },
   "id": "3b048cd113649bf7"
  },
  {
   "cell_type": "markdown",
   "source": [
    "In the following plot, the blue line shows the objective value after each iteration and the red dashed line shows the analytical solution."
   ],
   "metadata": {
    "collapsed": false
   },
   "id": "708099c9599fc926"
  },
  {
   "cell_type": "code",
   "execution_count": 17,
   "outputs": [
    {
     "data": {
      "text/plain": "<Figure size 800x400 with 1 Axes>",
      "image/png": "[encoded data removed]"
     },
     "metadata": {},
     "output_type": "display_data"
    }
   ],
   "source": [
    "plt.figure(figsize=(8,4))\n",
    "plt.plot(range(1,1001), f_list)\n",
    "plt.xlabel(\"Number of iterations\")\n",
    "plt.ylabel(\"Objective value (f(x))\")\n",
    "plt.axhline(y=analytical_solution, color='r', linestyle='--')\n",
    "plt.legend([\"Gradient descent\", \"Analytical solution\"])\n",
    "plt.show()"
   ],
   "metadata": {
    "collapsed": false,
    "ExecuteTime": {
     "end_time": "2023-09-30T13:34:09.527987200Z",
     "start_time": "2023-09-30T13:34:09.428428600Z"
    }
   },
   "id": "2a0ffc82078bff40"
  },
  {
   "cell_type": "markdown",
   "source": [
    "You can see that the objective value decreases after each iteration and converges to the analytical solution."
   ],
   "metadata": {
    "collapsed": false
   },
   "id": "26453d797f8f19cc"
  }
 ],
 "metadata": {
  "kernelspec": {
   "display_name": "Python 3",
   "language": "python",
   "name": "python3"
  },
  "language_info": {
   "codemirror_mode": {
    "name": "ipython",
    "version": 2
   },
   "file_extension": ".py",
   "mimetype": "text/x-python",
   "name": "python",
   "nbconvert_exporter": "python",
   "pygments_lexer": "ipython2",
   "version": "2.7.6"
  }
 },
 "nbformat": 4,
 "nbformat_minor": 5
}
