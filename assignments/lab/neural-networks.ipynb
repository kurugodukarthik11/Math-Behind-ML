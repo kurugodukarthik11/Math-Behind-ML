{
 "cells": [
  {
   "cell_type": "code",
   "execution_count": 1,
   "id": "initial_id",
   "metadata": {
    "collapsed": true,
    "ExecuteTime": {
     "end_time": "2023-11-17T06:32:51.249591Z",
     "start_time": "2023-11-17T06:32:49.609327Z"
    }
   },
   "outputs": [],
   "source": [
    "from sklearn import datasets\n",
    "import torch\n",
    "from torchmetrics import Accuracy\n",
    "import torch.nn as nn\n",
    "import torch.nn.functional as F\n",
    "from sklearn.model_selection import train_test_split"
   ]
  },
  {
   "cell_type": "code",
   "execution_count": 2,
   "outputs": [],
   "source": [
    "iris = datasets.load_iris()"
   ],
   "metadata": {
    "collapsed": false,
    "ExecuteTime": {
     "end_time": "2023-11-17T06:32:51.253788Z",
     "start_time": "2023-11-17T06:32:51.250347Z"
    }
   },
   "id": "7a8d22571e113671"
  },
  {
   "cell_type": "code",
   "execution_count": 3,
   "outputs": [
    {
     "data": {
      "text/plain": "array([0, 0, 0, 0, 0, 0, 0, 0, 0, 0, 0, 0, 0, 0, 0, 0, 0, 0, 0, 0, 0, 0,\n       0, 0, 0, 0, 0, 0, 0, 0, 0, 0, 0, 0, 0, 0, 0, 0, 0, 0, 0, 0, 0, 0,\n       0, 0, 0, 0, 0, 0, 1, 1, 1, 1, 1, 1, 1, 1, 1, 1, 1, 1, 1, 1, 1, 1,\n       1, 1, 1, 1, 1, 1, 1, 1, 1, 1, 1, 1, 1, 1, 1, 1, 1, 1, 1, 1, 1, 1,\n       1, 1, 1, 1, 1, 1, 1, 1, 1, 1, 1, 1, 2, 2, 2, 2, 2, 2, 2, 2, 2, 2,\n       2, 2, 2, 2, 2, 2, 2, 2, 2, 2, 2, 2, 2, 2, 2, 2, 2, 2, 2, 2, 2, 2,\n       2, 2, 2, 2, 2, 2, 2, 2, 2, 2, 2, 2, 2, 2, 2, 2, 2, 2])"
     },
     "execution_count": 3,
     "metadata": {},
     "output_type": "execute_result"
    }
   ],
   "source": [
    "iris.target"
   ],
   "metadata": {
    "collapsed": false,
    "ExecuteTime": {
     "end_time": "2023-11-17T06:32:51.259914Z",
     "start_time": "2023-11-17T06:32:51.255608Z"
    }
   },
   "id": "f9796c8d8ea6f5c6"
  },
  {
   "cell_type": "code",
   "execution_count": 4,
   "outputs": [],
   "source": [
    "x = iris.data\n",
    "y = iris.target\n",
    "x = torch.from_numpy(x).float()\n",
    "y = torch.from_numpy(y).long()"
   ],
   "metadata": {
    "collapsed": false,
    "ExecuteTime": {
     "end_time": "2023-11-17T06:32:51.262777Z",
     "start_time": "2023-11-17T06:32:51.258434Z"
    }
   },
   "id": "abc73227733fd05e"
  },
  {
   "cell_type": "code",
   "execution_count": 5,
   "outputs": [
    {
     "data": {
      "text/plain": "torch.Tensor"
     },
     "execution_count": 5,
     "metadata": {},
     "output_type": "execute_result"
    }
   ],
   "source": [
    "type(x)"
   ],
   "metadata": {
    "collapsed": false,
    "ExecuteTime": {
     "end_time": "2023-11-17T06:32:51.265762Z",
     "start_time": "2023-11-17T06:32:51.262076Z"
    }
   },
   "id": "abece74b92ebacb9"
  },
  {
   "cell_type": "code",
   "execution_count": 6,
   "outputs": [],
   "source": [
    "x_train, x_test, y_train, y_test = train_test_split(x, y, test_size=0.2)"
   ],
   "metadata": {
    "collapsed": false,
    "ExecuteTime": {
     "end_time": "2023-11-17T06:32:51.269011Z",
     "start_time": "2023-11-17T06:32:51.265075Z"
    }
   },
   "id": "c67067588d8c9ef7"
  },
  {
   "cell_type": "code",
   "execution_count": 7,
   "outputs": [],
   "source": [
    "class Model(nn.Module):\n",
    "    def __init__(self, input_features=4, output_features=3, hidden_features=10):\n",
    "        super().__init__()\n",
    "        self.network = nn.Sequential(\n",
    "            nn.Linear(input_features, hidden_features),\n",
    "            nn.ReLU(),\n",
    "            nn.Linear(hidden_features, hidden_features),\n",
    "            nn.ReLU(),\n",
    "            nn.Linear(hidden_features, output_features)\n",
    "        )\n",
    "    def forward(self, x):\n",
    "        return self.network(x)"
   ],
   "metadata": {
    "collapsed": false,
    "ExecuteTime": {
     "end_time": "2023-11-17T06:32:51.271715Z",
     "start_time": "2023-11-17T06:32:51.268805Z"
    }
   },
   "id": "bff19ae5687ee31d"
  },
  {
   "cell_type": "code",
   "execution_count": 8,
   "outputs": [],
   "source": [
    "model = Model()"
   ],
   "metadata": {
    "collapsed": false,
    "ExecuteTime": {
     "end_time": "2023-11-17T06:32:51.274853Z",
     "start_time": "2023-11-17T06:32:51.270922Z"
    }
   },
   "id": "47442e409750ed55"
  },
  {
   "cell_type": "code",
   "execution_count": 9,
   "outputs": [],
   "source": [
    "loss_fn = nn.CrossEntropyLoss()\n",
    "optimizer = torch.optim.Adam(model.parameters(), lr=0.001)"
   ],
   "metadata": {
    "collapsed": false,
    "ExecuteTime": {
     "end_time": "2023-11-17T06:32:51.447280Z",
     "start_time": "2023-11-17T06:32:51.274166Z"
    }
   },
   "id": "dc5855626acc8f20"
  },
  {
   "cell_type": "code",
   "execution_count": 10,
   "outputs": [
    {
     "name": "stdout",
     "output_type": "stream",
     "text": [
      "Epoch: 0 | Loss: 0.5676558613777161 | Test Loss: 1.2487958669662476 | Test Accuracy: 0.30000001192092896\n",
      "Epoch: 100 | Loss: 0.02406633086502552 | Test Loss: 3.731092691421509 | Test Accuracy: 0.30000001192092896\n",
      "Epoch: 200 | Loss: 0.004892414435744286 | Test Loss: 5.227289199829102 | Test Accuracy: 0.30000001192092896\n",
      "Epoch: 300 | Loss: 0.002044660970568657 | Test Loss: 6.063615798950195 | Test Accuracy: 0.30000001192092896\n",
      "Epoch: 400 | Loss: 0.001114990678615868 | Test Loss: 6.648725986480713 | Test Accuracy: 0.30000001192092896\n",
      "Epoch: 500 | Loss: 0.0006995636504143476 | Test Loss: 7.100063800811768 | Test Accuracy: 0.30000001192092896\n",
      "Epoch: 600 | Loss: 0.0004786188364960253 | Test Loss: 7.468376159667969 | Test Accuracy: 0.30000001192092896\n",
      "Epoch: 700 | Loss: 0.0003472389071248472 | Test Loss: 7.780228137969971 | Test Accuracy: 0.30000001192092896\n",
      "Epoch: 800 | Loss: 0.0002628119254950434 | Test Loss: 8.051264762878418 | Test Accuracy: 0.30000001192092896\n",
      "Epoch: 900 | Loss: 0.00020536448573693633 | Test Loss: 8.291459083557129 | Test Accuracy: 0.30000001192092896\n"
     ]
    }
   ],
   "source": [
    "for epoch in range(1000):\n",
    "    model.train()\n",
    "    y_logits = model(x_train)\n",
    "    y_pred = torch.softmax(y_logits, dim=1).argmax(dim=1)\n",
    "    y_train = y_train.to(torch.long)\n",
    "    loss = loss_fn(y_logits, y_pred)\n",
    "    train_accuracy = Accuracy(task='multiclass', num_classes=3)(y_pred, y_train)\n",
    "    optimizer.zero_grad()\n",
    "    loss.backward()\n",
    "    optimizer.step()\n",
    "    \n",
    "    model.eval()\n",
    "    with torch.inference_mode():\n",
    "        test_logits = model(x_test)\n",
    "        test_pred = F.softmax(test_logits, dim=1).argmax(dim=1)\n",
    "        y_test = y_test.to(torch.long)\n",
    "        test_loss = loss_fn(test_logits, y_test)\n",
    "        test_accuracy = Accuracy(task='multiclass', num_classes=3)(test_pred, y_test)\n",
    "    if epoch % 100 ==0:\n",
    "        print(f\"Epoch: {epoch} | Loss: {loss} | Test Loss: {test_loss} | Test Accuracy: {test_accuracy}\")"
   ],
   "metadata": {
    "collapsed": false,
    "ExecuteTime": {
     "end_time": "2023-11-17T06:32:52.310994Z",
     "start_time": "2023-11-17T06:32:51.449332Z"
    }
   },
   "id": "5da2e2316ab35408"
  },
  {
   "cell_type": "code",
   "execution_count": 10,
   "outputs": [],
   "source": [],
   "metadata": {
    "collapsed": false,
    "ExecuteTime": {
     "end_time": "2023-11-17T06:32:52.312655Z",
     "start_time": "2023-11-17T06:32:52.311226Z"
    }
   },
   "id": "c8ebd3840f1ba02b"
  }
 ],
 "metadata": {
  "kernelspec": {
   "display_name": "Python 3",
   "language": "python",
   "name": "python3"
  },
  "language_info": {
   "codemirror_mode": {
    "name": "ipython",
    "version": 2
   },
   "file_extension": ".py",
   "mimetype": "text/x-python",
   "name": "python",
   "nbconvert_exporter": "python",
   "pygments_lexer": "ipython2",
   "version": "2.7.6"
  }
 },
 "nbformat": 4,
 "nbformat_minor": 5
}
