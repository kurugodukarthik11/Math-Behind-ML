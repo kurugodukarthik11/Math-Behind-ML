{
 "cells": [
  {
   "cell_type": "code",
   "execution_count": 1,
   "outputs": [],
   "source": [
    "import numpy as np"
   ],
   "metadata": {
    "collapsed": false,
    "ExecuteTime": {
     "end_time": "2023-09-29T12:21:16.815803Z",
     "start_time": "2023-09-29T12:21:16.738811Z"
    }
   },
   "id": "581ec6f26f73a735"
  },
  {
   "cell_type": "code",
   "execution_count": 2,
   "outputs": [
    {
     "name": "stdout",
     "output_type": "stream",
     "text": [
      "Minimizer using gradient descent: [[0.00027665]\n",
      " [0.00015353]\n",
      " [0.00034497]]\n",
      "Value of f_a at minimizer: [[1.00000004]]\n",
      "Minimizer using gradient zero: [[0.]\n",
      " [0.]\n",
      " [0.]]\n",
      "Value of f_a at minimizer using gradient zero: [[1.]]\n"
     ]
    }
   ],
   "source": [
    "A_a = np.matrix([[2, -1, -1], [-1, 2, 0], [-1, 0, 1]])\n",
    "b_a = np.matrix([[1]])\n",
    "\n",
    "def f_a(x):\n",
    "    return x.T @ A_a @ x + b_a\n",
    "\n",
    "def gradient_f_a(x):\n",
    "    return 2* A_a @ x\n",
    "\n",
    "def gradient_descent(x0, learning_rate, num_iterations):\n",
    "    x = x0\n",
    "    for i in range(num_iterations):\n",
    "        x = x - learning_rate * gradient_f_a(x)\n",
    "    return x\n",
    "\n",
    "N = 1000\n",
    "t = 0.02\n",
    "\n",
    "x0 = np.random.rand(3,1)\n",
    "result_gradient_descent = gradient_descent(x0, t, N)\n",
    "print(\"Minimizer using gradient descent:\", result_gradient_descent)\n",
    "print(\"Value of f_a at minimizer:\", f_a(result_gradient_descent))\n",
    "result_gradient_zero = (1/2) * A_a.I @ np.matrix([[0],[0],[0]])\n",
    "print(\"Minimizer using gradient zero:\", result_gradient_zero)\n",
    "print(\"Value of f_a at minimizer using gradient zero:\", f_a(result_gradient_zero))"
   ],
   "metadata": {
    "collapsed": false,
    "ExecuteTime": {
     "end_time": "2023-09-29T12:21:16.847650Z",
     "start_time": "2023-09-29T12:21:16.812389Z"
    }
   },
   "id": "70eb247def381c74"
  },
  {
   "cell_type": "code",
   "execution_count": 3,
   "outputs": [
    {
     "name": "stdout",
     "output_type": "stream",
     "text": [
      "Minimizer using gradient descent: [[0.12]\n",
      " [0.64]]\n",
      "Value of f_b at minimizer: [[0.2]]\n",
      "Minimizer using gradient zero: [[0.12]\n",
      " [0.64]]\n",
      "Value of f_b at minimizer using gradient zero: [[0.2]]\n"
     ]
    }
   ],
   "source": [
    "A_b = np.matrix([[1,2],[2,4],[3,1]])\n",
    "b_b = np.matrix([[1],[3],[1]])\n",
    "\n",
    "def f_b(x):\n",
    "    return x.T @ A_b.T @ A_b @ x - b_b.T @ A_b @ x - x.T @ A_b.T @ b_b + b_b.T @ b_b\n",
    "\n",
    "def gradient_f_b(x):\n",
    "    return 2* A_b.T @ (A_b @ x - b_b)\n",
    "\n",
    "def gradient_descent(x0, learning_rate, num_iterations):\n",
    "    x = x0\n",
    "    for i in range(num_iterations):\n",
    "        x = x - learning_rate * gradient_f_b(x)\n",
    "    return x\n",
    "\n",
    "N = 1000\n",
    "t = 0.02\n",
    "x0 = np.random.rand(2,1)\n",
    "result_gradient_descent = gradient_descent(x0, t, N)\n",
    "print(\"Minimizer using gradient descent:\", result_gradient_descent)\n",
    "print(\"Value of f_b at minimizer:\", f_b(result_gradient_descent))\n",
    "result_gradient_zero = (A_b.T @ A_b).I @ A_b.T @ b_b\n",
    "print(\"Minimizer using gradient zero:\", result_gradient_zero)\n",
    "print(\"Value of f_b at minimizer using gradient zero:\", f_b(result_gradient_zero))"
   ],
   "metadata": {
    "collapsed": false,
    "ExecuteTime": {
     "end_time": "2023-09-29T12:21:16.881726Z",
     "start_time": "2023-09-29T12:21:16.826846Z"
    }
   },
   "id": "136320cb1037b19a"
  },
  {
   "cell_type": "code",
   "execution_count": 4,
   "outputs": [
    {
     "name": "stdout",
     "output_type": "stream",
     "text": [
      "Minimizer using gradient zero: [[0.05744939]\n",
      " [0.65686105]\n",
      " [0.33915902]]\n",
      "Value of f_b at minimizer using gradient zero: [[56.99048278]]\n"
     ]
    }
   ],
   "source": [
    "A_c = np.matrix([[1,2,1],[2,4,2],[3,1,9],[4,1,0],[2,1,4]])\n",
    "b_c = np.matrix([[1],[3],[1],[0],[9]])\n",
    "\n",
    "def f_c(x):\n",
    "    return x.T @ A_c.T @ A_c @ x - b_c.T @ A_c @ x - x.T @ A_c.T @ b_c + b_c.T @ b_c\n",
    "\n",
    "def gradient_f_c(x):\n",
    "    return 2* A_c.T @ (A_c @ x - b_c)\n",
    "\n",
    "def gradient_descent(x0, learning_rate, num_iterations):\n",
    "    x = x0\n",
    "    for i in range(num_iterations):\n",
    "        x = x - learning_rate * gradient_f_c(x)\n",
    "    return x\n",
    "\n",
    "N = 1000\n",
    "t = 0.02\n",
    "x0 = np.random.rand(3,1)\n",
    "# result_gradient_descent = gradient_descent(x0, t, N)\n",
    "# print(\"Minimizer using gradient descent:\", result_gradient_descent)\n",
    "# print(\"Value of f_c at minimizer:\", f_c(result_gradient_descent))\n",
    "result_gradient_zero = (A_c.T @ A_c).I @ A_c.T @ b_c\n",
    "print(\"Minimizer using gradient zero:\", result_gradient_zero)\n",
    "print(\"Value of f_b at minimizer using gradient zero:\", f_c(result_gradient_zero))"
   ],
   "metadata": {
    "collapsed": false,
    "ExecuteTime": {
     "end_time": "2023-09-29T12:21:16.882458Z",
     "start_time": "2023-09-29T12:21:16.871456Z"
    }
   },
   "id": "ff42759223a214eb"
  },
  {
   "cell_type": "code",
   "execution_count": 4,
   "outputs": [],
   "source": [],
   "metadata": {
    "collapsed": false,
    "ExecuteTime": {
     "end_time": "2023-09-29T12:21:16.897502Z",
     "start_time": "2023-09-29T12:21:16.892208Z"
    }
   },
   "id": "419535a82cb385ff"
  }
 ],
 "metadata": {
  "kernelspec": {
   "display_name": "Python 3",
   "language": "python",
   "name": "python3"
  },
  "language_info": {
   "codemirror_mode": {
    "name": "ipython",
    "version": 2
   },
   "file_extension": ".py",
   "mimetype": "text/x-python",
   "name": "python",
   "nbconvert_exporter": "python",
   "pygments_lexer": "ipython2",
   "version": "2.7.6"
  }
 },
 "nbformat": 4,
 "nbformat_minor": 5
}
