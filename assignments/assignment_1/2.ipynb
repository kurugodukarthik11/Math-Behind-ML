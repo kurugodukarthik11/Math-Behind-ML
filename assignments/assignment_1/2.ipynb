{
 "cells": [
  {
   "cell_type": "code",
   "execution_count": 1,
   "id": "initial_id",
   "metadata": {
    "collapsed": true,
    "ExecuteTime": {
     "end_time": "2023-09-29T13:59:53.003808Z",
     "start_time": "2023-09-29T13:59:52.516053Z"
    }
   },
   "outputs": [],
   "source": [
    "import numpy as np\n",
    "from sklearn.datasets import make_spd_matrix\n",
    "import matplotlib.pyplot as plt"
   ]
  },
  {
   "cell_type": "code",
   "execution_count": 2,
   "outputs": [],
   "source": [
    "A = make_spd_matrix(3)\n",
    "b = np.random.randn(3,1)\n",
    "c = np.random.randn(1,1)"
   ],
   "metadata": {
    "collapsed": false,
    "ExecuteTime": {
     "end_time": "2023-09-29T13:59:53.007032Z",
     "start_time": "2023-09-29T13:59:53.005175Z"
    }
   },
   "id": "78b84c2259166768"
  },
  {
   "cell_type": "code",
   "execution_count": 3,
   "outputs": [],
   "source": [
    "A = np.matrix(A)\n",
    "b = np.matrix(b)\n",
    "c = np.matrix(c)"
   ],
   "metadata": {
    "collapsed": false,
    "ExecuteTime": {
     "end_time": "2023-09-29T13:59:53.009475Z",
     "start_time": "2023-09-29T13:59:53.008002Z"
    }
   },
   "id": "ebcfabfcfbd7922e"
  },
  {
   "cell_type": "code",
   "execution_count": 4,
   "outputs": [],
   "source": [
    "def f(x):\n",
    "    return x.T @ A @ x -2 * b.T @ x + c"
   ],
   "metadata": {
    "collapsed": false,
    "ExecuteTime": {
     "end_time": "2023-09-29T13:59:53.011604Z",
     "start_time": "2023-09-29T13:59:53.010262Z"
    }
   },
   "id": "529c91d2ebc65ddd"
  },
  {
   "cell_type": "code",
   "execution_count": 5,
   "outputs": [],
   "source": [
    "def gradient_f(x):\n",
    "    return 2 * A @ x - 2 * b\n",
    "\n",
    "def grad_grad_f(x):\n",
    "    return 2 * A\n",
    "\n",
    "def is_pos_def(x):\n",
    "    return np.all(np.linalg.eigvals(x) > 0)"
   ],
   "metadata": {
    "collapsed": false,
    "ExecuteTime": {
     "end_time": "2023-09-29T13:59:53.014765Z",
     "start_time": "2023-09-29T13:59:53.013644Z"
    }
   },
   "id": "607a0013b1532021"
  },
  {
   "cell_type": "code",
   "execution_count": 6,
   "outputs": [
    {
     "name": "stdout",
     "output_type": "stream",
     "text": [
      "f is convex\n"
     ]
    }
   ],
   "source": [
    "if is_pos_def(A):\n",
    "    print(\"f is convex\")"
   ],
   "metadata": {
    "collapsed": false,
    "ExecuteTime": {
     "end_time": "2023-09-29T13:59:53.016993Z",
     "start_time": "2023-09-29T13:59:53.015660Z"
    }
   },
   "id": "37c8d5a5b0258e9c"
  },
  {
   "cell_type": "code",
   "execution_count": 7,
   "outputs": [],
   "source": [
    "result_gradient_zero = A.I @ b"
   ],
   "metadata": {
    "collapsed": false,
    "ExecuteTime": {
     "end_time": "2023-09-29T13:59:53.050631Z",
     "start_time": "2023-09-29T13:59:53.021714Z"
    }
   },
   "id": "2889fd512101d2c3"
  },
  {
   "cell_type": "code",
   "execution_count": 8,
   "outputs": [
    {
     "data": {
      "text/plain": "matrix([[ 3.11284808],\n        [ 1.28616256],\n        [-3.57164085]])"
     },
     "execution_count": 8,
     "metadata": {},
     "output_type": "execute_result"
    }
   ],
   "source": [
    "result_gradient_zero"
   ],
   "metadata": {
    "collapsed": false,
    "ExecuteTime": {
     "end_time": "2023-09-29T13:59:53.062968Z",
     "start_time": "2023-09-29T13:59:53.057489Z"
    }
   },
   "id": "b8ef4334a92ebafe"
  },
  {
   "cell_type": "code",
   "execution_count": 9,
   "outputs": [],
   "source": [
    "result_gradient_zero = np.matrix(result_gradient_zero)\n",
    "analytical_solution = f(result_gradient_zero)"
   ],
   "metadata": {
    "collapsed": false,
    "ExecuteTime": {
     "end_time": "2023-09-29T13:59:53.065559Z",
     "start_time": "2023-09-29T13:59:53.061948Z"
    }
   },
   "id": "8fa7428459e0ae2f"
  },
  {
   "cell_type": "code",
   "execution_count": 10,
   "outputs": [
    {
     "data": {
      "text/plain": "matrix([[-13.18775658]])"
     },
     "execution_count": 10,
     "metadata": {},
     "output_type": "execute_result"
    }
   ],
   "source": [
    "analytical_solution"
   ],
   "metadata": {
    "collapsed": false,
    "ExecuteTime": {
     "end_time": "2023-09-29T13:59:53.070180Z",
     "start_time": "2023-09-29T13:59:53.066096Z"
    }
   },
   "id": "9f56df24d83c8bf3"
  },
  {
   "cell_type": "code",
   "execution_count": 11,
   "outputs": [],
   "source": [
    "x0 = [[1/10],[1/10],[1/10]]\n",
    "x0 = np.matrix(x0)"
   ],
   "metadata": {
    "collapsed": false,
    "ExecuteTime": {
     "end_time": "2023-09-29T13:59:53.104592Z",
     "start_time": "2023-09-29T13:59:53.069064Z"
    }
   },
   "id": "d40bd48d54827555"
  },
  {
   "cell_type": "code",
   "execution_count": 12,
   "outputs": [],
   "source": [
    "a_norm = np.linalg.norm(A, ord=2)\n",
    "b_norm = np.linalg.norm(b)\n",
    "step_size = 1 / ((2*a_norm) + b_norm)"
   ],
   "metadata": {
    "collapsed": false,
    "ExecuteTime": {
     "end_time": "2023-09-29T13:59:53.108137Z",
     "start_time": "2023-09-29T13:59:53.075725Z"
    }
   },
   "id": "2677d9736647718c"
  },
  {
   "cell_type": "code",
   "execution_count": 13,
   "outputs": [],
   "source": [
    "def gradient_descent(x0, learning_rate, num_iterations):\n",
    "    x = x0\n",
    "    x_list = []\n",
    "    for i in range(num_iterations):\n",
    "        x = x - learning_rate * gradient_f(x)\n",
    "        x_list.append(x)\n",
    "    return x, x_list"
   ],
   "metadata": {
    "collapsed": false,
    "ExecuteTime": {
     "end_time": "2023-09-29T13:59:53.116298Z",
     "start_time": "2023-09-29T13:59:53.081208Z"
    }
   },
   "id": "b1491c15823a8ca"
  },
  {
   "cell_type": "code",
   "execution_count": 14,
   "outputs": [],
   "source": [
    "x, x_list = gradient_descent(x0, step_size, 1000)"
   ],
   "metadata": {
    "collapsed": false,
    "ExecuteTime": {
     "end_time": "2023-09-29T13:59:53.119607Z",
     "start_time": "2023-09-29T13:59:53.091713Z"
    }
   },
   "id": "4b76bd1c9cda5b52"
  },
  {
   "cell_type": "code",
   "execution_count": 15,
   "outputs": [],
   "source": [
    "f_list = [f(x).tolist()[0][0] for x in x_list]"
   ],
   "metadata": {
    "collapsed": false,
    "ExecuteTime": {
     "end_time": "2023-09-29T13:59:53.132663Z",
     "start_time": "2023-09-29T13:59:53.118116Z"
    }
   },
   "id": "c29b1b0295751a4"
  },
  {
   "cell_type": "code",
   "execution_count": 16,
   "outputs": [
    {
     "data": {
      "text/plain": "<matplotlib.lines.Line2D at 0x144a8aca0>"
     },
     "execution_count": 16,
     "metadata": {},
     "output_type": "execute_result"
    },
    {
     "data": {
      "text/plain": "<Figure size 1000x500 with 1 Axes>",
      "image/png": "[encoded data removed]"
     },
     "metadata": {},
     "output_type": "display_data"
    }
   ],
   "source": [
    "plt.figure(figsize=(10,5))\n",
    "plt.plot(range(1,1001), f_list)\n",
    "plt.axhline(y=analytical_solution, color='r', linestyle='--')"
   ],
   "metadata": {
    "collapsed": false,
    "ExecuteTime": {
     "end_time": "2023-09-29T13:59:53.250922Z",
     "start_time": "2023-09-29T13:59:53.129446Z"
    }
   },
   "id": "cbb2f18a7c9c3c09"
  },
  {
   "cell_type": "code",
   "execution_count": 16,
   "outputs": [],
   "source": [],
   "metadata": {
    "collapsed": false,
    "ExecuteTime": {
     "end_time": "2023-09-29T13:59:53.256290Z",
     "start_time": "2023-09-29T13:59:53.250405Z"
    }
   },
   "id": "9d3e107445e32973"
  }
 ],
 "metadata": {
  "kernelspec": {
   "display_name": "Python 3",
   "language": "python",
   "name": "python3"
  },
  "language_info": {
   "codemirror_mode": {
    "name": "ipython",
    "version": 2
   },
   "file_extension": ".py",
   "mimetype": "text/x-python",
   "name": "python",
   "nbconvert_exporter": "python",
   "pygments_lexer": "ipython2",
   "version": "2.7.6"
  }
 },
 "nbformat": 4,
 "nbformat_minor": 5
}
