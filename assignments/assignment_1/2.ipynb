{
 "cells": [
  {
   "cell_type": "markdown",
   "source": [
    "### Importing libraries"
   ],
   "metadata": {
    "collapsed": false
   },
   "id": "fc50f5193c747f13"
  },
  {
   "cell_type": "code",
   "execution_count": 1,
   "id": "initial_id",
   "metadata": {
    "collapsed": true,
    "ExecuteTime": {
     "end_time": "2023-09-29T17:26:24.745159Z",
     "start_time": "2023-09-29T17:26:23.881943Z"
    }
   },
   "outputs": [],
   "source": [
    "import numpy as np\n",
    "from sklearn.datasets import make_spd_matrix\n",
    "import matplotlib.pyplot as plt"
   ]
  },
  {
   "cell_type": "markdown",
   "source": [
    "Generating $A$ randomly using sklearn.datasets.make_spd_matrix,and generate $b$ and $c$ using np.random.rand function of numpy."
   ],
   "metadata": {
    "collapsed": false
   },
   "id": "69220de996466560"
  },
  {
   "cell_type": "code",
   "execution_count": 2,
   "outputs": [],
   "source": [
    "A = np.matrix(make_spd_matrix(10))\n",
    "b = np.matrix(np.random.randn(10,1))\n",
    "c = np.matrix(np.random.randn(1,1))"
   ],
   "metadata": {
    "collapsed": false,
    "ExecuteTime": {
     "end_time": "2023-09-29T17:26:24.745414Z",
     "start_time": "2023-09-29T17:26:24.735639Z"
    }
   },
   "id": "78b84c2259166768"
  },
  {
   "cell_type": "markdown",
   "source": [
    "$f(x) = x^T A x - 2 b^T x + c$ \\\n",
    "$\\Rightarrow \\nabla f(x) = 2 A x - 2 b$ \\\n",
    "$\\Rightarrow \\nabla^2 f(x) = 2 A$ \\\n",
    "$ \\nabla^2 f(x) > 0 \\Rightarrow f$ is convex \\\n",
    "$ 2*A > 0 \\Rightarrow A > 0 \\Rightarrow A$ is positive definite $\\Rightarrow f$ is convex \\\n",
    "So we need to check if $A$ is positive definite or not to know if $f$ is convex or not."
   ],
   "metadata": {
    "collapsed": false
   },
   "id": "45b5a55a3f7f627b"
  },
  {
   "cell_type": "code",
   "execution_count": 3,
   "outputs": [],
   "source": [
    "def f(x):\n",
    "    return x.T @ A @ x -2 * b.T @ x + c\n",
    "\n",
    "def gradient_f(x):\n",
    "    return 2 * A @ x - 2 * b\n",
    "\n",
    "def grad_grad_f(x):\n",
    "    return 2 * A\n",
    "\n",
    "def is_pos_def(x):\n",
    "    return np.all(np.linalg.eigvals(x) > 0)"
   ],
   "metadata": {
    "collapsed": false,
    "ExecuteTime": {
     "end_time": "2023-09-29T17:26:24.745522Z",
     "start_time": "2023-09-29T17:26:24.741834Z"
    }
   },
   "id": "529c91d2ebc65ddd"
  },
  {
   "cell_type": "code",
   "execution_count": 4,
   "outputs": [
    {
     "name": "stdout",
     "output_type": "stream",
     "text": [
      "A is positive definite, hence f is convex\n"
     ]
    }
   ],
   "source": [
    "if is_pos_def(A):\n",
    "    print(\"A is positive definite, hence f is convex\")"
   ],
   "metadata": {
    "collapsed": false,
    "ExecuteTime": {
     "end_time": "2023-09-29T17:26:24.746546Z",
     "start_time": "2023-09-29T17:26:24.744476Z"
    }
   },
   "id": "37c8d5a5b0258e9c"
  },
  {
   "cell_type": "markdown",
   "source": [
    "By setting the gradient of $f$ to zero, we can find the analytical solution\n",
    "$\\Rightarrow \\nabla f(x) = 0$ \\\n",
    "$\\Rightarrow 2 A x - 2 b = 0$ \\\n",
    "$\\Rightarrow x = A^{-1} b$"
   ],
   "metadata": {
    "collapsed": false
   },
   "id": "f6bd445aa7f9e047"
  },
  {
   "cell_type": "code",
   "execution_count": 5,
   "outputs": [],
   "source": [
    "result_gradient_zero = np.matrix(A.I @ b)"
   ],
   "metadata": {
    "collapsed": false,
    "ExecuteTime": {
     "end_time": "2023-09-29T17:26:24.757423Z",
     "start_time": "2023-09-29T17:26:24.751606Z"
    }
   },
   "id": "2889fd512101d2c3"
  },
  {
   "cell_type": "code",
   "execution_count": 6,
   "outputs": [],
   "source": [
    "analytical_solution = f(result_gradient_zero)"
   ],
   "metadata": {
    "collapsed": false,
    "ExecuteTime": {
     "end_time": "2023-09-29T17:26:24.770545Z",
     "start_time": "2023-09-29T17:26:24.760693Z"
    }
   },
   "id": "8fa7428459e0ae2f"
  },
  {
   "cell_type": "code",
   "execution_count": 7,
   "outputs": [
    {
     "name": "stdout",
     "output_type": "stream",
     "text": [
      "Analytical solution is:  -64.20117597161945\n"
     ]
    }
   ],
   "source": [
    "print(\"Analytical solution is: \", analytical_solution[0,0])"
   ],
   "metadata": {
    "collapsed": false,
    "ExecuteTime": {
     "end_time": "2023-09-29T17:26:24.814231Z",
     "start_time": "2023-09-29T17:26:24.773326Z"
    }
   },
   "id": "9f56df24d83c8bf3"
  },
  {
   "cell_type": "markdown",
   "source": [
    "### Gradient descent"
   ],
   "metadata": {
    "collapsed": false
   },
   "id": "769e2d09855ec255"
  },
  {
   "cell_type": "markdown",
   "source": [
    "Initial point $x_0 = [1/10, 1/10, 1/10, 1/10, 1/10, 1/10, 1/10, 1/10, 1/10, 1/10]^T$ where $x_0 \\in \\mathbb{R}^{10}$"
   ],
   "metadata": {
    "collapsed": false
   },
   "id": "be4749623391754f"
  },
  {
   "cell_type": "code",
   "execution_count": 8,
   "outputs": [],
   "source": [
    "x0 = np.matrix([[1/10],[1/10],[1/10],[1/10],[1/10],[1/10],[1/10],[1/10],[1/10],[1/10]])"
   ],
   "metadata": {
    "collapsed": false,
    "ExecuteTime": {
     "end_time": "2023-09-29T17:26:24.814608Z",
     "start_time": "2023-09-29T17:26:24.778278Z"
    }
   },
   "id": "d40bd48d54827555"
  },
  {
   "cell_type": "markdown",
   "source": [
    "Step size $\\ l_{GD}= \\frac{1}{2||A|| + ||b||_2}$ where $||A||$ is the spectral norm of $A$ and $||b||_2$ is the 2-norm of $b$"
   ],
   "metadata": {
    "collapsed": false
   },
   "id": "964b391e023ee87f"
  },
  {
   "cell_type": "code",
   "execution_count": 9,
   "outputs": [],
   "source": [
    "a_norm = np.linalg.norm(A, ord=2)\n",
    "b_norm = np.linalg.norm(b)\n",
    "step_size = 1 / ((2*a_norm) + b_norm)"
   ],
   "metadata": {
    "collapsed": false,
    "ExecuteTime": {
     "end_time": "2023-09-29T17:26:24.814797Z",
     "start_time": "2023-09-29T17:26:24.785657Z"
    }
   },
   "id": "2677d9736647718c"
  },
  {
   "cell_type": "code",
   "execution_count": 10,
   "outputs": [],
   "source": [
    "def gradient_descent(x0, step_size, num_iterations):\n",
    "    \"\"\"\n",
    "    Gradient descent algorithm\n",
    "    :param x0: np.matrix - Initial point\n",
    "    :param step_size: float - step size\n",
    "    :param num_iterations: int - number of iterations\n",
    "    :return: value of x after num_iterations, list of objective values\n",
    "    \"\"\"\n",
    "    x = x0\n",
    "    f_list = []\n",
    "    for i in range(num_iterations):\n",
    "        x = x - step_size * gradient_f(x)\n",
    "        f_list.append(f(x).tolist()[0][0])\n",
    "    return x, f_list"
   ],
   "metadata": {
    "collapsed": false,
    "ExecuteTime": {
     "end_time": "2023-09-29T17:26:24.815209Z",
     "start_time": "2023-09-29T17:26:24.791463Z"
    }
   },
   "id": "b1491c15823a8ca"
  },
  {
   "cell_type": "code",
   "execution_count": 11,
   "outputs": [],
   "source": [
    "x, f_list = gradient_descent(x0, step_size, 1000)"
   ],
   "metadata": {
    "collapsed": false,
    "ExecuteTime": {
     "end_time": "2023-09-29T17:26:24.860398Z",
     "start_time": "2023-09-29T17:26:24.796792Z"
    }
   },
   "id": "4b76bd1c9cda5b52"
  },
  {
   "cell_type": "markdown",
   "source": [
    "In the following plot, the blue line shows the objective value after each iteration and the red dashed line shows the analytical solution."
   ],
   "metadata": {
    "collapsed": false
   },
   "id": "3df9b201d78d63e5"
  },
  {
   "cell_type": "code",
   "execution_count": 12,
   "outputs": [
    {
     "data": {
      "text/plain": "<Figure size 1000x500 with 1 Axes>",
      "image/png": "[encoded data removed]"
     },
     "metadata": {},
     "output_type": "display_data"
    }
   ],
   "source": [
    "plt.figure(figsize=(10,5))\n",
    "plt.plot(range(1,1001), f_list)\n",
    "plt.xlabel(\"Number of iterations\")\n",
    "plt.ylabel(\"Objective value (f(x))\")\n",
    "plt.axhline(y=analytical_solution, color='r', linestyle='--')\n",
    "plt.legend([\"Gradient descent\", \"Analytical solution\"])\n",
    "plt.show()"
   ],
   "metadata": {
    "collapsed": false,
    "ExecuteTime": {
     "end_time": "2023-09-29T17:26:24.979512Z",
     "start_time": "2023-09-29T17:26:24.847181Z"
    }
   },
   "id": "cbb2f18a7c9c3c09"
  },
  {
   "cell_type": "code",
   "execution_count": 12,
   "outputs": [],
   "source": [],
   "metadata": {
    "collapsed": false,
    "ExecuteTime": {
     "end_time": "2023-09-29T17:26:24.979671Z",
     "start_time": "2023-09-29T17:26:24.974131Z"
    }
   },
   "id": "e88e99d1d4d2862c"
  }
 ],
 "metadata": {
  "kernelspec": {
   "display_name": "Python 3",
   "language": "python",
   "name": "python3"
  },
  "language_info": {
   "codemirror_mode": {
    "name": "ipython",
    "version": 2
   },
   "file_extension": ".py",
   "mimetype": "text/x-python",
   "name": "python",
   "nbconvert_exporter": "python",
   "pygments_lexer": "ipython2",
   "version": "2.7.6"
  }
 },
 "nbformat": 4,
 "nbformat_minor": 5
}
